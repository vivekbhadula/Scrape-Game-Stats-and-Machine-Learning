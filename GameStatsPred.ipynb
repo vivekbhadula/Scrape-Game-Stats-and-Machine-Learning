{
  "nbformat": 4,
  "nbformat_minor": 0,
  "metadata": {
    "colab": {
      "provenance": []
    },
    "kernelspec": {
      "name": "python3",
      "display_name": "Python 3"
    },
    "language_info": {
      "name": "python"
    }
  },
  "cells": [
    {
      "cell_type": "code",
      "execution_count": null,
      "metadata": {
        "id": "RshWIecQJqr2"
      },
      "outputs": [],
      "source": [
        "import pandas as pd\n",
        "import matplotlib.pyplot as plt\n",
        "import numpy as np\n",
        "from sklearn.model_selection import train_test_split\n",
        "from sklearn.linear_model import LogisticRegression\n",
        "from sklearn.metrics import confusion_matrix\n",
        "from sklearn.preprocessing import PolynomialFeatures\n",
        "from sklearn.metrics import accuracy_score\n",
        "from sklearn.linear_model import LinearRegression, Ridge, Lasso\n",
        "from sklearn.model_selection import cross_val_score\n",
        "from matplotlib.pyplot import figure\n",
        "from sklearn.metrics import classification_report\n",
        "from sklearn.model_selection import KFold\n",
        "from sklearn.metrics import mean_squared_error\n",
        "from sklearn.neighbors import KNeighborsClassifier\n",
        "\n"
      ]
    },
    {
      "cell_type": "code",
      "source": [
        "df = pd.read_csv('/content/valo_data_all 1000.csv')\n",
        "df = df.drop('id',axis=1)\n",
        "df['region'] = df['region'].astype(pd.StringDtype())\n",
        "df['top_agent_nam'] = df['top_agent_nam'].astype(pd.StringDtype())\n",
        "df['rank'] = df['rank'].astype(pd.StringDtype())\n",
        "\n",
        "df.replace(',','', regex=True, inplace=True)\n",
        "c = df.select_dtypes(object).columns\n",
        "df[c] = df[c].apply(pd.to_numeric,errors='coerce')\n",
        "df.head()"
      ],
      "metadata": {
        "id": "GreD1qyuJvlC",
        "colab": {
          "base_uri": "https://localhost:8080/",
          "height": 369
        },
        "outputId": "af6b6176-61e6-4856-a0ac-01b50d77b4fb"
      },
      "execution_count": null,
      "outputs": [
        {
          "output_type": "execute_result",
          "data": {
            "text/plain": [
              "         rank  win%   k/d  dmg/rnd region  acc_head_%  acc_head_hits  \\\n",
              "0      Iron 3  63.6  2.27    232.5     US        28.4            357   \n",
              "1  Platinum 3  45.9  1.30    176.5     HU        24.7            323   \n",
              "2   Diamond 3  50.0  0.89    120.7     US        19.8            201   \n",
              "3  Platinum 2  65.4  1.05    147.1     FR         9.5            136   \n",
              "4   Diamond 1  43.2  1.07    154.4     HU        16.7            215   \n",
              "\n",
              "   acc_body_%  acc_body_hits  acc_leg_%  ...  headshot_%  wins_total  \\\n",
              "0        66.7            838        4.9  ...        25.2          19   \n",
              "1        70.4            922        5.0  ...        23.4         156   \n",
              "2        70.3            714        9.9  ...        16.5         138   \n",
              "3        76.1           1093       14.5  ...        12.8         111   \n",
              "4        74.6            959        8.6  ...        17.1         703   \n",
              "\n",
              "   kills_total  avg_kill_per_rnd  top_agent_nam  top_agent_time_hrs  \\\n",
              "0          510               1.1          Reyna                 5.0   \n",
              "1         5922               0.9        Chamber                49.0   \n",
              "2         3456               0.7           Omen                68.0   \n",
              "3         3400               0.7          KAY/O                69.0   \n",
              "4        23380               0.8           Jett               297.0   \n",
              "\n",
              "  top_agent_matchs  top_agent_win_%  top_agent_kd_avg  top_agent_adr  \n",
              "0               11             90.9              3.48          301.1  \n",
              "1               85             56.5              1.46          187.5  \n",
              "2              120             56.7              1.04          140.2  \n",
              "3              117             53.0              1.06          151.0  \n",
              "4              497             50.9              1.16          161.2  \n",
              "\n",
              "[5 rows x 22 columns]"
            ],
            "text/html": [
              "\n",
              "  <div id=\"df-80712f88-f419-4cf7-9e4d-f1bcfbe2be06\">\n",
              "    <div class=\"colab-df-container\">\n",
              "      <div>\n",
              "<style scoped>\n",
              "    .dataframe tbody tr th:only-of-type {\n",
              "        vertical-align: middle;\n",
              "    }\n",
              "\n",
              "    .dataframe tbody tr th {\n",
              "        vertical-align: top;\n",
              "    }\n",
              "\n",
              "    .dataframe thead th {\n",
              "        text-align: right;\n",
              "    }\n",
              "</style>\n",
              "<table border=\"1\" class=\"dataframe\">\n",
              "  <thead>\n",
              "    <tr style=\"text-align: right;\">\n",
              "      <th></th>\n",
              "      <th>rank</th>\n",
              "      <th>win%</th>\n",
              "      <th>k/d</th>\n",
              "      <th>dmg/rnd</th>\n",
              "      <th>region</th>\n",
              "      <th>acc_head_%</th>\n",
              "      <th>acc_head_hits</th>\n",
              "      <th>acc_body_%</th>\n",
              "      <th>acc_body_hits</th>\n",
              "      <th>acc_leg_%</th>\n",
              "      <th>...</th>\n",
              "      <th>headshot_%</th>\n",
              "      <th>wins_total</th>\n",
              "      <th>kills_total</th>\n",
              "      <th>avg_kill_per_rnd</th>\n",
              "      <th>top_agent_nam</th>\n",
              "      <th>top_agent_time_hrs</th>\n",
              "      <th>top_agent_matchs</th>\n",
              "      <th>top_agent_win_%</th>\n",
              "      <th>top_agent_kd_avg</th>\n",
              "      <th>top_agent_adr</th>\n",
              "    </tr>\n",
              "  </thead>\n",
              "  <tbody>\n",
              "    <tr>\n",
              "      <th>0</th>\n",
              "      <td>Iron 3</td>\n",
              "      <td>63.6</td>\n",
              "      <td>2.27</td>\n",
              "      <td>232.5</td>\n",
              "      <td>US</td>\n",
              "      <td>28.4</td>\n",
              "      <td>357</td>\n",
              "      <td>66.7</td>\n",
              "      <td>838</td>\n",
              "      <td>4.9</td>\n",
              "      <td>...</td>\n",
              "      <td>25.2</td>\n",
              "      <td>19</td>\n",
              "      <td>510</td>\n",
              "      <td>1.1</td>\n",
              "      <td>Reyna</td>\n",
              "      <td>5.0</td>\n",
              "      <td>11</td>\n",
              "      <td>90.9</td>\n",
              "      <td>3.48</td>\n",
              "      <td>301.1</td>\n",
              "    </tr>\n",
              "    <tr>\n",
              "      <th>1</th>\n",
              "      <td>Platinum 3</td>\n",
              "      <td>45.9</td>\n",
              "      <td>1.30</td>\n",
              "      <td>176.5</td>\n",
              "      <td>HU</td>\n",
              "      <td>24.7</td>\n",
              "      <td>323</td>\n",
              "      <td>70.4</td>\n",
              "      <td>922</td>\n",
              "      <td>5.0</td>\n",
              "      <td>...</td>\n",
              "      <td>23.4</td>\n",
              "      <td>156</td>\n",
              "      <td>5922</td>\n",
              "      <td>0.9</td>\n",
              "      <td>Chamber</td>\n",
              "      <td>49.0</td>\n",
              "      <td>85</td>\n",
              "      <td>56.5</td>\n",
              "      <td>1.46</td>\n",
              "      <td>187.5</td>\n",
              "    </tr>\n",
              "    <tr>\n",
              "      <th>2</th>\n",
              "      <td>Diamond 3</td>\n",
              "      <td>50.0</td>\n",
              "      <td>0.89</td>\n",
              "      <td>120.7</td>\n",
              "      <td>US</td>\n",
              "      <td>19.8</td>\n",
              "      <td>201</td>\n",
              "      <td>70.3</td>\n",
              "      <td>714</td>\n",
              "      <td>9.9</td>\n",
              "      <td>...</td>\n",
              "      <td>16.5</td>\n",
              "      <td>138</td>\n",
              "      <td>3456</td>\n",
              "      <td>0.7</td>\n",
              "      <td>Omen</td>\n",
              "      <td>68.0</td>\n",
              "      <td>120</td>\n",
              "      <td>56.7</td>\n",
              "      <td>1.04</td>\n",
              "      <td>140.2</td>\n",
              "    </tr>\n",
              "    <tr>\n",
              "      <th>3</th>\n",
              "      <td>Platinum 2</td>\n",
              "      <td>65.4</td>\n",
              "      <td>1.05</td>\n",
              "      <td>147.1</td>\n",
              "      <td>FR</td>\n",
              "      <td>9.5</td>\n",
              "      <td>136</td>\n",
              "      <td>76.1</td>\n",
              "      <td>1093</td>\n",
              "      <td>14.5</td>\n",
              "      <td>...</td>\n",
              "      <td>12.8</td>\n",
              "      <td>111</td>\n",
              "      <td>3400</td>\n",
              "      <td>0.7</td>\n",
              "      <td>KAY/O</td>\n",
              "      <td>69.0</td>\n",
              "      <td>117</td>\n",
              "      <td>53.0</td>\n",
              "      <td>1.06</td>\n",
              "      <td>151.0</td>\n",
              "    </tr>\n",
              "    <tr>\n",
              "      <th>4</th>\n",
              "      <td>Diamond 1</td>\n",
              "      <td>43.2</td>\n",
              "      <td>1.07</td>\n",
              "      <td>154.4</td>\n",
              "      <td>HU</td>\n",
              "      <td>16.7</td>\n",
              "      <td>215</td>\n",
              "      <td>74.6</td>\n",
              "      <td>959</td>\n",
              "      <td>8.6</td>\n",
              "      <td>...</td>\n",
              "      <td>17.1</td>\n",
              "      <td>703</td>\n",
              "      <td>23380</td>\n",
              "      <td>0.8</td>\n",
              "      <td>Jett</td>\n",
              "      <td>297.0</td>\n",
              "      <td>497</td>\n",
              "      <td>50.9</td>\n",
              "      <td>1.16</td>\n",
              "      <td>161.2</td>\n",
              "    </tr>\n",
              "  </tbody>\n",
              "</table>\n",
              "<p>5 rows × 22 columns</p>\n",
              "</div>\n",
              "      <button class=\"colab-df-convert\" onclick=\"convertToInteractive('df-80712f88-f419-4cf7-9e4d-f1bcfbe2be06')\"\n",
              "              title=\"Convert this dataframe to an interactive table.\"\n",
              "              style=\"display:none;\">\n",
              "        \n",
              "  <svg xmlns=\"http://www.w3.org/2000/svg\" height=\"24px\"viewBox=\"0 0 24 24\"\n",
              "       width=\"24px\">\n",
              "    <path d=\"M0 0h24v24H0V0z\" fill=\"none\"/>\n",
              "    <path d=\"M18.56 5.44l.94 2.06.94-2.06 2.06-.94-2.06-.94-.94-2.06-.94 2.06-2.06.94zm-11 1L8.5 8.5l.94-2.06 2.06-.94-2.06-.94L8.5 2.5l-.94 2.06-2.06.94zm10 10l.94 2.06.94-2.06 2.06-.94-2.06-.94-.94-2.06-.94 2.06-2.06.94z\"/><path d=\"M17.41 7.96l-1.37-1.37c-.4-.4-.92-.59-1.43-.59-.52 0-1.04.2-1.43.59L10.3 9.45l-7.72 7.72c-.78.78-.78 2.05 0 2.83L4 21.41c.39.39.9.59 1.41.59.51 0 1.02-.2 1.41-.59l7.78-7.78 2.81-2.81c.8-.78.8-2.07 0-2.86zM5.41 20L4 18.59l7.72-7.72 1.47 1.35L5.41 20z\"/>\n",
              "  </svg>\n",
              "      </button>\n",
              "      \n",
              "  <style>\n",
              "    .colab-df-container {\n",
              "      display:flex;\n",
              "      flex-wrap:wrap;\n",
              "      gap: 12px;\n",
              "    }\n",
              "\n",
              "    .colab-df-convert {\n",
              "      background-color: #E8F0FE;\n",
              "      border: none;\n",
              "      border-radius: 50%;\n",
              "      cursor: pointer;\n",
              "      display: none;\n",
              "      fill: #1967D2;\n",
              "      height: 32px;\n",
              "      padding: 0 0 0 0;\n",
              "      width: 32px;\n",
              "    }\n",
              "\n",
              "    .colab-df-convert:hover {\n",
              "      background-color: #E2EBFA;\n",
              "      box-shadow: 0px 1px 2px rgba(60, 64, 67, 0.3), 0px 1px 3px 1px rgba(60, 64, 67, 0.15);\n",
              "      fill: #174EA6;\n",
              "    }\n",
              "\n",
              "    [theme=dark] .colab-df-convert {\n",
              "      background-color: #3B4455;\n",
              "      fill: #D2E3FC;\n",
              "    }\n",
              "\n",
              "    [theme=dark] .colab-df-convert:hover {\n",
              "      background-color: #434B5C;\n",
              "      box-shadow: 0px 1px 3px 1px rgba(0, 0, 0, 0.15);\n",
              "      filter: drop-shadow(0px 1px 2px rgba(0, 0, 0, 0.3));\n",
              "      fill: #FFFFFF;\n",
              "    }\n",
              "  </style>\n",
              "\n",
              "      <script>\n",
              "        const buttonEl =\n",
              "          document.querySelector('#df-80712f88-f419-4cf7-9e4d-f1bcfbe2be06 button.colab-df-convert');\n",
              "        buttonEl.style.display =\n",
              "          google.colab.kernel.accessAllowed ? 'block' : 'none';\n",
              "\n",
              "        async function convertToInteractive(key) {\n",
              "          const element = document.querySelector('#df-80712f88-f419-4cf7-9e4d-f1bcfbe2be06');\n",
              "          const dataTable =\n",
              "            await google.colab.kernel.invokeFunction('convertToInteractive',\n",
              "                                                     [key], {});\n",
              "          if (!dataTable) return;\n",
              "\n",
              "          const docLinkHtml = 'Like what you see? Visit the ' +\n",
              "            '<a target=\"_blank\" href=https://colab.research.google.com/notebooks/data_table.ipynb>data table notebook</a>'\n",
              "            + ' to learn more about interactive tables.';\n",
              "          element.innerHTML = '';\n",
              "          dataTable['output_type'] = 'display_data';\n",
              "          await google.colab.output.renderOutput(dataTable, element);\n",
              "          const docLink = document.createElement('div');\n",
              "          docLink.innerHTML = docLinkHtml;\n",
              "          element.appendChild(docLink);\n",
              "        }\n",
              "      </script>\n",
              "    </div>\n",
              "  </div>\n",
              "  "
            ]
          },
          "metadata": {},
          "execution_count": 34
        }
      ]
    },
    {
      "cell_type": "code",
      "source": [
        "df3 = df\n",
        "df3 = df.replace({\n",
        "                   'Iron 1':1,'Iron 2':2,'Iron 3':3,\n",
        "                   'Bronze 1':4,'Bronze 2':5,'Bronze 3':6,\n",
        "                   'Silver 1':7,'Silver 2':8,'Silver 3':9,\n",
        "                   'Gold 1':10,'Gold 2':11,'Gold 3':12,\n",
        "                   'Platinum 1':13,'Platinum 2':14,'Platinum 3':15,\n",
        "                   'Diamond 1':16,'Diamond 2':17,'Diamond 3':18,\n",
        "                   'Ascendant 1':19,'Ascendant 2':20,'Ascendant 3':21,\n",
        "                   'Immortal 1':22,'Immortal 2':23,'Immortal 3':24,\n",
        "                   'Radiant':25,'Unranked':-1\n",
        "                   })\n",
        "df3.dropna(\n",
        "    axis=0,\n",
        "    how='any',\n",
        "    thresh=None,\n",
        "    subset=None,\n",
        "    inplace=True\n",
        ")\n",
        "df.dropna(\n",
        "    axis=0,\n",
        "    how='any',\n",
        "    thresh=None,\n",
        "    subset=None,\n",
        "    inplace=True\n",
        ")\n",
        "print(df3.shape)\n",
        "df3 = df3.drop(df3[df3['rank'] == -1].index)\n",
        "print(df3.shape)\n",
        "df3 = df3.drop(df3[df3['top_agent_nam'] == '0'].index)\n",
        "print(df3.shape)\n",
        "\n",
        "print(df.shape)\n",
        "df = df.drop(df[df['rank'] == \"Unranked\"].index)\n",
        "print(df.shape)\n",
        "df = df.drop(df[df['top_agent_nam'] == '0'].index)\n",
        "print(df.shape)\n"
      ],
      "metadata": {
        "id": "xGX-czGjJ4n4",
        "colab": {
          "base_uri": "https://localhost:8080/"
        },
        "outputId": "17e11a54-046a-4a63-fae0-f9953a681322"
      },
      "execution_count": null,
      "outputs": [
        {
          "output_type": "stream",
          "name": "stdout",
          "text": [
            "(1073, 22)\n",
            "(1018, 22)\n",
            "(999, 22)\n",
            "(1073, 22)\n",
            "(1018, 22)\n",
            "(999, 22)\n"
          ]
        }
      ]
    },
    {
      "cell_type": "code",
      "source": [
        "plt.scatter(df3['top_agent_nam'], df3['rank'], color='red', label='1 Player')\n",
        "plt.rcParams[\"figure.figsize\"] = (5,5)\n",
        "plt.title('Rank Vs Top Agent Name')\n",
        "plt.legend()\n",
        "plt.xlabel('Top_agent_name')\n",
        "plt.ylabel('rank')\n",
        "# plt.show()\n",
        "plt.savefig('RankVsTopAgentName')"
      ],
      "metadata": {
        "id": "RgECBPWB16Ni",
        "colab": {
          "base_uri": "https://localhost:8080/",
          "height": 351
        },
        "outputId": "ca9b5f6e-39bd-417c-8da1-0cc3093ca33e"
      },
      "execution_count": null,
      "outputs": [
        {
          "output_type": "display_data",
          "data": {
            "text/plain": [
              "<Figure size 360x360 with 1 Axes>"
            ],
            "image/png": "[encoded data removed]"
          },
          "metadata": {
            "needs_background": "light"
          }
        }
      ]
    },
    {
      "cell_type": "code",
      "source": [
        "from sklearn import preprocessing\n",
        "le = preprocessing.LabelEncoder()\n",
        "\n",
        "df3['region']=le.fit_transform(df3['region'])\n",
        "df3['top_agent_nam']=le.fit_transform(df3['top_agent_nam'])\n",
        "\n",
        "df3.head()"
      ],
      "metadata": {
        "id": "iCILNh_cG06P",
        "colab": {
          "base_uri": "https://localhost:8080/",
          "height": 299
        },
        "outputId": "18a1518e-f441-4656-bc88-a2405da7de7b"
      },
      "execution_count": null,
      "outputs": [
        {
          "output_type": "execute_result",
          "data": {
            "text/plain": [
              "   rank  win%   k/d  dmg/rnd  region  acc_head_%  acc_head_hits  acc_body_%  \\\n",
              "0     3  63.6  2.27    232.5      87        28.4            357        66.7   \n",
              "1    15  45.9  1.30    176.5      38        24.7            323        70.4   \n",
              "2    18  50.0  0.89    120.7      87        19.8            201        70.3   \n",
              "3    14  65.4  1.05    147.1      30         9.5            136        76.1   \n",
              "4    16  43.2  1.07    154.4      38        16.7            215        74.6   \n",
              "\n",
              "   acc_body_hits  acc_leg_%  ...  headshot_%  wins_total  kills_total  \\\n",
              "0            838        4.9  ...        25.2          19          510   \n",
              "1            922        5.0  ...        23.4         156         5922   \n",
              "2            714        9.9  ...        16.5         138         3456   \n",
              "3           1093       14.5  ...        12.8         111         3400   \n",
              "4            959        8.6  ...        17.1         703        23380   \n",
              "\n",
              "   avg_kill_per_rnd  top_agent_nam  top_agent_time_hrs  top_agent_matchs  \\\n",
              "0               1.1             14                 5.0                11   \n",
              "1               0.9              3                49.0                85   \n",
              "2               0.7             11                68.0               120   \n",
              "3               0.7              8                69.0               117   \n",
              "4               0.8              7               297.0               497   \n",
              "\n",
              "   top_agent_win_%  top_agent_kd_avg  top_agent_adr  \n",
              "0             90.9              3.48          301.1  \n",
              "1             56.5              1.46          187.5  \n",
              "2             56.7              1.04          140.2  \n",
              "3             53.0              1.06          151.0  \n",
              "4             50.9              1.16          161.2  \n",
              "\n",
              "[5 rows x 22 columns]"
            ],
            "text/html": [
              "\n",
              "  <div id=\"df-185c00c2-4493-4b0a-be6f-54e33a821803\">\n",
              "    <div class=\"colab-df-container\">\n",
              "      <div>\n",
              "<style scoped>\n",
              "    .dataframe tbody tr th:only-of-type {\n",
              "        vertical-align: middle;\n",
              "    }\n",
              "\n",
              "    .dataframe tbody tr th {\n",
              "        vertical-align: top;\n",
              "    }\n",
              "\n",
              "    .dataframe thead th {\n",
              "        text-align: right;\n",
              "    }\n",
              "</style>\n",
              "<table border=\"1\" class=\"dataframe\">\n",
              "  <thead>\n",
              "    <tr style=\"text-align: right;\">\n",
              "      <th></th>\n",
              "      <th>rank</th>\n",
              "      <th>win%</th>\n",
              "      <th>k/d</th>\n",
              "      <th>dmg/rnd</th>\n",
              "      <th>region</th>\n",
              "      <th>acc_head_%</th>\n",
              "      <th>acc_head_hits</th>\n",
              "      <th>acc_body_%</th>\n",
              "      <th>acc_body_hits</th>\n",
              "      <th>acc_leg_%</th>\n",
              "      <th>...</th>\n",
              "      <th>headshot_%</th>\n",
              "      <th>wins_total</th>\n",
              "      <th>kills_total</th>\n",
              "      <th>avg_kill_per_rnd</th>\n",
              "      <th>top_agent_nam</th>\n",
              "      <th>top_agent_time_hrs</th>\n",
              "      <th>top_agent_matchs</th>\n",
              "      <th>top_agent_win_%</th>\n",
              "      <th>top_agent_kd_avg</th>\n",
              "      <th>top_agent_adr</th>\n",
              "    </tr>\n",
              "  </thead>\n",
              "  <tbody>\n",
              "    <tr>\n",
              "      <th>0</th>\n",
              "      <td>3</td>\n",
              "      <td>63.6</td>\n",
              "      <td>2.27</td>\n",
              "      <td>232.5</td>\n",
              "      <td>87</td>\n",
              "      <td>28.4</td>\n",
              "      <td>357</td>\n",
              "      <td>66.7</td>\n",
              "      <td>838</td>\n",
              "      <td>4.9</td>\n",
              "      <td>...</td>\n",
              "      <td>25.2</td>\n",
              "      <td>19</td>\n",
              "      <td>510</td>\n",
              "      <td>1.1</td>\n",
              "      <td>14</td>\n",
              "      <td>5.0</td>\n",
              "      <td>11</td>\n",
              "      <td>90.9</td>\n",
              "      <td>3.48</td>\n",
              "      <td>301.1</td>\n",
              "    </tr>\n",
              "    <tr>\n",
              "      <th>1</th>\n",
              "      <td>15</td>\n",
              "      <td>45.9</td>\n",
              "      <td>1.30</td>\n",
              "      <td>176.5</td>\n",
              "      <td>38</td>\n",
              "      <td>24.7</td>\n",
              "      <td>323</td>\n",
              "      <td>70.4</td>\n",
              "      <td>922</td>\n",
              "      <td>5.0</td>\n",
              "      <td>...</td>\n",
              "      <td>23.4</td>\n",
              "      <td>156</td>\n",
              "      <td>5922</td>\n",
              "      <td>0.9</td>\n",
              "      <td>3</td>\n",
              "      <td>49.0</td>\n",
              "      <td>85</td>\n",
              "      <td>56.5</td>\n",
              "      <td>1.46</td>\n",
              "      <td>187.5</td>\n",
              "    </tr>\n",
              "    <tr>\n",
              "      <th>2</th>\n",
              "      <td>18</td>\n",
              "      <td>50.0</td>\n",
              "      <td>0.89</td>\n",
              "      <td>120.7</td>\n",
              "      <td>87</td>\n",
              "      <td>19.8</td>\n",
              "      <td>201</td>\n",
              "      <td>70.3</td>\n",
              "      <td>714</td>\n",
              "      <td>9.9</td>\n",
              "      <td>...</td>\n",
              "      <td>16.5</td>\n",
              "      <td>138</td>\n",
              "      <td>3456</td>\n",
              "      <td>0.7</td>\n",
              "      <td>11</td>\n",
              "      <td>68.0</td>\n",
              "      <td>120</td>\n",
              "      <td>56.7</td>\n",
              "      <td>1.04</td>\n",
              "      <td>140.2</td>\n",
              "    </tr>\n",
              "    <tr>\n",
              "      <th>3</th>\n",
              "      <td>14</td>\n",
              "      <td>65.4</td>\n",
              "      <td>1.05</td>\n",
              "      <td>147.1</td>\n",
              "      <td>30</td>\n",
              "      <td>9.5</td>\n",
              "      <td>136</td>\n",
              "      <td>76.1</td>\n",
              "      <td>1093</td>\n",
              "      <td>14.5</td>\n",
              "      <td>...</td>\n",
              "      <td>12.8</td>\n",
              "      <td>111</td>\n",
              "      <td>3400</td>\n",
              "      <td>0.7</td>\n",
              "      <td>8</td>\n",
              "      <td>69.0</td>\n",
              "      <td>117</td>\n",
              "      <td>53.0</td>\n",
              "      <td>1.06</td>\n",
              "      <td>151.0</td>\n",
              "    </tr>\n",
              "    <tr>\n",
              "      <th>4</th>\n",
              "      <td>16</td>\n",
              "      <td>43.2</td>\n",
              "      <td>1.07</td>\n",
              "      <td>154.4</td>\n",
              "      <td>38</td>\n",
              "      <td>16.7</td>\n",
              "      <td>215</td>\n",
              "      <td>74.6</td>\n",
              "      <td>959</td>\n",
              "      <td>8.6</td>\n",
              "      <td>...</td>\n",
              "      <td>17.1</td>\n",
              "      <td>703</td>\n",
              "      <td>23380</td>\n",
              "      <td>0.8</td>\n",
              "      <td>7</td>\n",
              "      <td>297.0</td>\n",
              "      <td>497</td>\n",
              "      <td>50.9</td>\n",
              "      <td>1.16</td>\n",
              "      <td>161.2</td>\n",
              "    </tr>\n",
              "  </tbody>\n",
              "</table>\n",
              "<p>5 rows × 22 columns</p>\n",
              "</div>\n",
              "      <button class=\"colab-df-convert\" onclick=\"convertToInteractive('df-185c00c2-4493-4b0a-be6f-54e33a821803')\"\n",
              "              title=\"Convert this dataframe to an interactive table.\"\n",
              "              style=\"display:none;\">\n",
              "        \n",
              "  <svg xmlns=\"http://www.w3.org/2000/svg\" height=\"24px\"viewBox=\"0 0 24 24\"\n",
              "       width=\"24px\">\n",
              "    <path d=\"M0 0h24v24H0V0z\" fill=\"none\"/>\n",
              "    <path d=\"M18.56 5.44l.94 2.06.94-2.06 2.06-.94-2.06-.94-.94-2.06-.94 2.06-2.06.94zm-11 1L8.5 8.5l.94-2.06 2.06-.94-2.06-.94L8.5 2.5l-.94 2.06-2.06.94zm10 10l.94 2.06.94-2.06 2.06-.94-2.06-.94-.94-2.06-.94 2.06-2.06.94z\"/><path d=\"M17.41 7.96l-1.37-1.37c-.4-.4-.92-.59-1.43-.59-.52 0-1.04.2-1.43.59L10.3 9.45l-7.72 7.72c-.78.78-.78 2.05 0 2.83L4 21.41c.39.39.9.59 1.41.59.51 0 1.02-.2 1.41-.59l7.78-7.78 2.81-2.81c.8-.78.8-2.07 0-2.86zM5.41 20L4 18.59l7.72-7.72 1.47 1.35L5.41 20z\"/>\n",
              "  </svg>\n",
              "      </button>\n",
              "      \n",
              "  <style>\n",
              "    .colab-df-container {\n",
              "      display:flex;\n",
              "      flex-wrap:wrap;\n",
              "      gap: 12px;\n",
              "    }\n",
              "\n",
              "    .colab-df-convert {\n",
              "      background-color: #E8F0FE;\n",
              "      border: none;\n",
              "      border-radius: 50%;\n",
              "      cursor: pointer;\n",
              "      display: none;\n",
              "      fill: #1967D2;\n",
              "      height: 32px;\n",
              "      padding: 0 0 0 0;\n",
              "      width: 32px;\n",
              "    }\n",
              "\n",
              "    .colab-df-convert:hover {\n",
              "      background-color: #E2EBFA;\n",
              "      box-shadow: 0px 1px 2px rgba(60, 64, 67, 0.3), 0px 1px 3px 1px rgba(60, 64, 67, 0.15);\n",
              "      fill: #174EA6;\n",
              "    }\n",
              "\n",
              "    [theme=dark] .colab-df-convert {\n",
              "      background-color: #3B4455;\n",
              "      fill: #D2E3FC;\n",
              "    }\n",
              "\n",
              "    [theme=dark] .colab-df-convert:hover {\n",
              "      background-color: #434B5C;\n",
              "      box-shadow: 0px 1px 3px 1px rgba(0, 0, 0, 0.15);\n",
              "      filter: drop-shadow(0px 1px 2px rgba(0, 0, 0, 0.3));\n",
              "      fill: #FFFFFF;\n",
              "    }\n",
              "  </style>\n",
              "\n",
              "      <script>\n",
              "        const buttonEl =\n",
              "          document.querySelector('#df-185c00c2-4493-4b0a-be6f-54e33a821803 button.colab-df-convert');\n",
              "        buttonEl.style.display =\n",
              "          google.colab.kernel.accessAllowed ? 'block' : 'none';\n",
              "\n",
              "        async function convertToInteractive(key) {\n",
              "          const element = document.querySelector('#df-185c00c2-4493-4b0a-be6f-54e33a821803');\n",
              "          const dataTable =\n",
              "            await google.colab.kernel.invokeFunction('convertToInteractive',\n",
              "                                                     [key], {});\n",
              "          if (!dataTable) return;\n",
              "\n",
              "          const docLinkHtml = 'Like what you see? Visit the ' +\n",
              "            '<a target=\"_blank\" href=https://colab.research.google.com/notebooks/data_table.ipynb>data table notebook</a>'\n",
              "            + ' to learn more about interactive tables.';\n",
              "          element.innerHTML = '';\n",
              "          dataTable['output_type'] = 'display_data';\n",
              "          await google.colab.output.renderOutput(dataTable, element);\n",
              "          const docLink = document.createElement('div');\n",
              "          docLink.innerHTML = docLinkHtml;\n",
              "          element.appendChild(docLink);\n",
              "        }\n",
              "      </script>\n",
              "    </div>\n",
              "  </div>\n",
              "  "
            ]
          },
          "metadata": {},
          "execution_count": 37
        }
      ]
    },
    {
      "cell_type": "code",
      "source": [
        "from sklearn.preprocessing import StandardScaler\n",
        "scaler = StandardScaler()\n",
        "\n",
        "Y=df3.iloc[:,0]\n",
        "Y=Y.astype(float)\n",
        "X=df3.iloc[:,1:22]\n",
        "\n",
        "Y2=df3.iloc[:,0]\n",
        "X2=df3.iloc[:,1:22]\n",
        "\n",
        "X=pd.DataFrame(scaler.fit_transform(df3),index=df3.index, columns=df3.columns)"
      ],
      "metadata": {
        "id": "Qr_FNbcEJDbC"
      },
      "execution_count": null,
      "outputs": []
    },
    {
      "cell_type": "code",
      "source": [
        "plt.scatter(df3['acc_head_%'], df3['rank'], color='red', label='1 Player')\n",
        "plt.rcParams[\"figure.figsize\"] = (5,5)\n",
        "plt.title('Rank vs Head Shot Percentage')\n",
        "plt.legend()\n",
        "plt.xlabel('acc_head_%')\n",
        "plt.ylabel('rank')\n",
        "# plt.show()\n",
        "plt.savefig('RankVsHeadShot%')"
      ],
      "metadata": {
        "id": "SF5U_fyapp9E",
        "colab": {
          "base_uri": "https://localhost:8080/",
          "height": 351
        },
        "outputId": "2a059c8a-2db2-496d-c807-9d63d0d0295f"
      },
      "execution_count": null,
      "outputs": [
        {
          "output_type": "display_data",
          "data": {
            "text/plain": [
              "<Figure size 360x360 with 1 Axes>"
            ],
            "image/png": "[encoded data removed]"
          },
          "metadata": {
            "needs_background": "light"
          }
        }
      ]
    },
    {
      "cell_type": "code",
      "source": [
        "plt.scatter(df3['region'], df3['rank'], color='green', label='1 Player')\n",
        "plt.title('Rank vs Region')\n",
        "plt.xlabel('Region')\n",
        "plt.ylabel('Rank')\n",
        "plt.legend()\n",
        "plt.rcParams[\"figure.figsize\"] = (5,5)\n",
        "# plt.show()\n",
        "plt.savefig('RankVsRegion')"
      ],
      "metadata": {
        "id": "gBpYKGEwtKY3",
        "colab": {
          "base_uri": "https://localhost:8080/",
          "height": 350
        },
        "outputId": "d0658bcf-01c0-48aa-d3b8-05763b681245"
      },
      "execution_count": null,
      "outputs": [
        {
          "output_type": "display_data",
          "data": {
            "text/plain": [
              "<Figure size 360x360 with 1 Axes>"
            ],
            "image/png": "[encoded data removed]"
          },
          "metadata": {
            "needs_background": "light"
          }
        }
      ]
    },
    {
      "cell_type": "code",
      "source": [
        "X = X.drop('region',axis=1)\n",
        "X = X.drop('top_agent_nam',axis=1)\n",
        "\n",
        "xtrain, xtest, ytrain, ytest = train_test_split(X, Y, test_size=0.2)\n",
        "xtrain2, xtest2, ytrain2, ytest2 = train_test_split(X2, Y2, test_size=0.2)\n"
      ],
      "metadata": {
        "id": "8LgPqwkXPpzT"
      },
      "execution_count": null,
      "outputs": []
    },
    {
      "cell_type": "code",
      "source": [
        "model = LinearRegression()\n",
        "model.fit(xtrain, ytrain)\n",
        "preds = model.predict(xtest)\n",
        "preds = preds.astype(int)\n",
        "print(\"\\nTest\")\n",
        "print(accuracy_score(ytest.astype(int), preds))\n",
        "\n",
        "print(mean_squared_error(ytest,preds))\n",
        "\n",
        "preds = model.predict(xtrain)\n",
        "preds = preds.astype(int)\n",
        "print(\"Train\")\n",
        "print(accuracy_score(ytrain.astype(int), preds))\n",
        "\n",
        "\n"
      ],
      "metadata": {
        "id": "RYrjT8H6U_iI",
        "colab": {
          "base_uri": "https://localhost:8080/"
        },
        "outputId": "776cd4e8-72f3-4a5a-eb8c-40a023acb419"
      },
      "execution_count": null,
      "outputs": [
        {
          "output_type": "stream",
          "name": "stdout",
          "text": [
            "\n",
            "Test\n",
            "0.595\n",
            "0.405\n",
            "Train\n",
            "0.5694618272841051\n"
          ]
        }
      ]
    },
    {
      "cell_type": "code",
      "source": [
        "from sklearn.feature_selection import SelectKBest\n",
        "from sklearn.feature_selection import f_regression\n",
        "\n",
        "bestfeatures = SelectKBest(score_func=f_regression, k=17)\n",
        "fit = bestfeatures.fit(X,Y)\n",
        "dfscores = pd.DataFrame(fit.scores_)\n",
        "dfcolumns = pd.DataFrame(X.columns)\n",
        "\n",
        "featureScores = pd.concat([dfcolumns,dfscores],axis=1)\n",
        "featureScores.columns = ['Feature','Score']  #naming the dataframe columns\n",
        "print(featureScores.nlargest(21,'Score'))  #print 10 best features"
      ],
      "metadata": {
        "id": "trWWETzWWQI0",
        "colab": {
          "base_uri": "https://localhost:8080/"
        },
        "outputId": "480c17e0-89e2-4f38-b744-00f4561f3004"
      },
      "execution_count": null,
      "outputs": [
        {
          "output_type": "stream",
          "name": "stdout",
          "text": [
            "               Feature         Score\n",
            "11          headshot_%  4.420958e+02\n",
            "12          wins_total  3.241170e+02\n",
            "8            acc_leg_%  3.231964e+02\n",
            "13         kills_total  3.199843e+02\n",
            "10       matchs_played  2.942336e+02\n",
            "4           acc_head_%  2.821634e+02\n",
            "9         acc_leg_hits  2.742507e+02\n",
            "5        acc_head_hits  2.308754e+02\n",
            "15  top_agent_time_hrs  1.502094e+02\n",
            "16    top_agent_matchs  1.481929e+02\n",
            "14    avg_kill_per_rnd  1.396694e+02\n",
            "6           acc_body_%  9.790690e+01\n",
            "7        acc_body_hits  9.381630e+01\n",
            "18    top_agent_kd_avg  7.627508e+01\n",
            "19       top_agent_adr  7.447567e+01\n",
            "17     top_agent_win_%  3.633507e+01\n",
            "1                 win%  3.247400e+01\n",
            "3              dmg/rnd  1.349716e+01\n",
            "2                  k/d  7.346702e+00\n",
            "0                 rank -2.245044e+18\n"
          ]
        }
      ]
    },
    {
      "cell_type": "code",
      "source": [
        "cArr = [0.0001, 0.001, 0.01, 0.1, 1, 10,100, 1000,10000]\n",
        "\n",
        "\n",
        "mse = [] \n",
        "mean=[] \n",
        "std=[] \n",
        "for c in cArr:\n",
        "  ridgeModel = Ridge(alpha=1/(2*c))\n",
        "  for train, test in KFold(n_splits=5).split(df3):\n",
        "    ridgeModel.fit(X.iloc[train], Y.iloc[train])\n",
        "    yPredR = ridgeModel.predict(X.iloc[test])\n",
        "    mse.append(mean_squared_error(Y.iloc[test],yPredR))\n",
        "    # print(mse)\n",
        "  mean.append(np.array(mse).mean()) \n",
        "  std.append(np.array(mse).std())\n",
        "\n",
        "fig = plt.figure()\n",
        "plt.errorbar(cArr, mean, yerr=std, ecolor='green', label='mean') \n",
        "plt.title('ErrorBar for Ridge')\n",
        "plt.xlabel('C(Penalty)')\n",
        "plt.ylabel('Mean Square Error')\n",
        "plt.xscale('log')\n",
        "plt.legend()\n",
        "plt.savefig('ErrorBar for Ridge')\n",
        "\n",
        "print(mean[1])"
      ],
      "metadata": {
        "id": "CnZpcKLr4QXu",
        "colab": {
          "base_uri": "https://localhost:8080/",
          "height": 370
        },
        "outputId": "79be3d14-4313-4caa-bb18-d547a88fa193"
      },
      "execution_count": null,
      "outputs": [
        {
          "output_type": "stream",
          "name": "stdout",
          "text": [
            "10.253277576751806\n"
          ]
        },
        {
          "output_type": "display_data",
          "data": {
            "text/plain": [
              "<Figure size 360x360 with 1 Axes>"
            ],
            "image/png": "[encoded data removed]"
          },
          "metadata": {
            "needs_background": "light"
          }
        }
      ]
    },
    {
      "cell_type": "code",
      "source": [
        "model = Ridge(alpha= 1/(2*0.001))\n",
        "model.fit(xtrain, ytrain)\n",
        "preds = model.predict(xtest)\n",
        "preds = preds.astype(int)\n",
        "print(\"\\nTest\")\n",
        "print(accuracy_score(ytest.astype(int), preds),c)\n",
        "\n",
        "preds = model.predict(xtrain)\n",
        "preds = preds.astype(int)\n",
        "print(\"Train\")\n",
        "print(accuracy_score(ytrain.astype(int), preds),c)"
      ],
      "metadata": {
        "id": "uAN9rtUXIVwx",
        "colab": {
          "base_uri": "https://localhost:8080/"
        },
        "outputId": "1894893c-09fe-4fa6-d6aa-8a4e132ff936"
      },
      "execution_count": null,
      "outputs": [
        {
          "output_type": "stream",
          "name": "stdout",
          "text": [
            "\n",
            "Test\n",
            "0.175 10000\n",
            "Train\n",
            "0.17897371714643304 10000\n"
          ]
        }
      ]
    },
    {
      "cell_type": "code",
      "source": [
        "mse = [] \n",
        "mean=[] \n",
        "std=[] \n",
        "\n",
        "cArr = [0.0001, 0.001, 0.01, 0.1, 1, 10,100, 1000,10000]\n",
        "\n",
        "for c in cArr:\n",
        "  lassoModel = Lasso(alpha=1/(2*c))\n",
        "  for train, test in KFold(n_splits=5).split(df3):\n",
        "    lassoModel.fit(X.iloc[train], Y.iloc[train])\n",
        "    yPredR = lassoModel.predict(X.iloc[test])\n",
        "    from sklearn.metrics import mean_squared_error\n",
        "    mse.append(mean_squared_error(Y.iloc[test],yPredR))\n",
        "    # print(mse)\n",
        "  mean.append(np.array(mse).mean()) \n",
        "  std.append(np.array(mse).std())\n",
        "\n",
        "plt.errorbar(cArr, mean, yerr=std, ecolor='green',label='mean') \n",
        "plt.title('ErrorBar for Lasso')\n",
        "plt.xlabel('C(Penalty)')\n",
        "plt.ylabel('Mean Square Error')\n",
        "plt.xscale('log')\n",
        "plt.legend()\n",
        "\n",
        "plt.savefig('ErrorBar for Lasso')\n",
        "\n",
        "print(mean[3])"
      ],
      "metadata": {
        "colab": {
          "base_uri": "https://localhost:8080/",
          "height": 370
        },
        "id": "TKm8eLQbsZNu",
        "outputId": "a44ef325-2521-405f-cd78-21c4c7492b8f"
      },
      "execution_count": null,
      "outputs": [
        {
          "output_type": "stream",
          "name": "stdout",
          "text": [
            "29.28329904197011\n"
          ]
        },
        {
          "output_type": "display_data",
          "data": {
            "text/plain": [
              "<Figure size 360x360 with 1 Axes>"
            ],
            "image/png": "[encoded data removed]"
          },
          "metadata": {
            "needs_background": "light"
          }
        }
      ]
    },
    {
      "cell_type": "code",
      "source": [
        "model = Lasso(alpha= 1/(2*0.1))\n",
        "model.fit(xtrain, ytrain)\n",
        "preds = model.predict(xtest)\n",
        "preds = preds.astype(int)\n",
        "print(\"\\nTest\")\n",
        "print(accuracy_score(ytest.astype(int), preds),c)\n",
        "\n",
        "preds = model.predict(xtrain)\n",
        "preds = preds.astype(int)\n",
        "print(\"Train\")\n",
        "print(accuracy_score(ytrain.astype(int), preds),c)"
      ],
      "metadata": {
        "id": "elbVI2EHLJzr",
        "colab": {
          "base_uri": "https://localhost:8080/"
        },
        "outputId": "aed78326-b552-4235-fb02-00b0e22b7092"
      },
      "execution_count": null,
      "outputs": [
        {
          "output_type": "stream",
          "name": "stdout",
          "text": [
            "\n",
            "Test\n",
            "0.16 10000\n",
            "Train\n",
            "0.10888610763454318 10000\n"
          ]
        }
      ]
    },
    {
      "cell_type": "code",
      "source": [
        "mse = [] \n",
        "mean=[] \n",
        "std=[] \n",
        "\n",
        "val = range(3,15)\n",
        "\n",
        "for k in val:\n",
        "  knnModel = KNeighborsClassifier(n_neighbors=k,weights='uniform')\n",
        "  for train, test in KFold(n_splits=5).split(df3):\n",
        "    knnModel.fit(X.iloc[train], Y.iloc[train])\n",
        "    yPredR = knnModel.predict(X.iloc[test])\n",
        "    from sklearn.metrics import mean_squared_error\n",
        "    mse.append(mean_squared_error(Y.iloc[test],yPredR))\n",
        "    # print(mse)\n",
        "  mean.append(np.array(mse).mean()) \n",
        "  std.append(np.array(mse).std())\n",
        "plt.errorbar(val, mean, yerr=std, ecolor='green',label='mean') \n",
        "plt.title('ErrorBar for Knn')\n",
        "plt.xlabel('k')\n",
        "plt.ylabel('Mean Square Error')\n",
        "# plt.xscale('log')\n",
        "plt.legend()\n",
        "plt.savefig('ErrorBar for Knn')\n",
        "\n",
        "print(mean[9])"
      ],
      "metadata": {
        "colab": {
          "base_uri": "https://localhost:8080/",
          "height": 367
        },
        "id": "7-8CoC7XuQZA",
        "outputId": "71ccdb8b-6d94-4c82-bd12-3c4a134b948a"
      },
      "execution_count": null,
      "outputs": [
        {
          "output_type": "stream",
          "name": "stdout",
          "text": [
            "10.895288944723621\n"
          ]
        },
        {
          "output_type": "display_data",
          "data": {
            "text/plain": [
              "<Figure size 360x360 with 1 Axes>"
            ],
            "image/png": "[encoded data removed]"
          },
          "metadata": {
            "needs_background": "light"
          }
        }
      ]
    },
    {
      "cell_type": "code",
      "source": [
        "\n",
        "model = KNeighborsClassifier(n_neighbors=11,weights='uniform')\n",
        "model.fit(xtrain, ytrain)\n",
        "preds = model.predict(xtest)\n",
        "preds = preds.astype(int)\n",
        "print(\"\\nTest\")\n",
        "print(accuracy_score(ytest.astype(int), preds),k)\n",
        "\n",
        "preds = model.predict(xtrain)\n",
        "preds = preds.astype(int)\n",
        "print(\"Train\")\n",
        "print(accuracy_score(ytrain.astype(int), preds),k)\n"
      ],
      "metadata": {
        "id": "wcEU7npyUbsE",
        "colab": {
          "base_uri": "https://localhost:8080/"
        },
        "outputId": "92409836-b9ca-4fe2-81bf-1e9bdb6b49ec"
      },
      "execution_count": null,
      "outputs": [
        {
          "output_type": "stream",
          "name": "stdout",
          "text": [
            "\n",
            "Test\n",
            "0.12 14\n",
            "Train\n",
            "0.2928660826032541 14\n"
          ]
        }
      ]
    },
    {
      "cell_type": "code",
      "source": [
        "mse = [] \n",
        "mean=[] \n",
        "std=[] \n",
        "\n",
        "val = [0.0001, 0.001, 0.01, 0.1, 1, 10, 100, 1000,10000]\n",
        "\n",
        "for c in val:\n",
        "  model = svm.SVC(kernel='linear',C = c)\n",
        "  for train, test in KFold(n_splits=5).split(df3):\n",
        "    model.fit(X.iloc[train], Y.iloc[train])\n",
        "    yPredR = model.predict(X.iloc[test])\n",
        "    from sklearn.metrics import mean_squared_error\n",
        "    mse.append(mean_squared_error(Y.iloc[test],yPredR))\n",
        "    # print(mse)\n",
        "  mean.append(np.array(mse).mean()) \n",
        "  std.append(np.array(mse).std())\n",
        "plt.errorbar(val, mean, yerr=std, ecolor='green',label='mean') \n",
        "plt.title('ErrorBar for SVM')\n",
        "plt.xlabel('C')\n",
        "plt.ylabel('Mean Square Error')\n",
        "plt.xscale('log')\n",
        "plt.savefig('ErrorBar for SVM')\n",
        "plt.legend()\n",
        "\n",
        "print(mean[3])"
      ],
      "metadata": {
        "colab": {
          "base_uri": "https://localhost:8080/",
          "height": 370
        },
        "id": "7J5anktt-HMu",
        "outputId": "572c383a-f72b-48c4-8997-fd6e07bf2a15"
      },
      "execution_count": null,
      "outputs": [
        {
          "output_type": "stream",
          "name": "stdout",
          "text": [
            "18.919335427135678\n"
          ]
        },
        {
          "output_type": "display_data",
          "data": {
            "text/plain": [
              "<Figure size 360x360 with 1 Axes>"
            ],
            "image/png": "[encoded data removed]"
          },
          "metadata": {
            "needs_background": "light"
          }
        }
      ]
    },
    {
      "cell_type": "code",
      "source": [
        "from sklearn import svm\n",
        "\n",
        "\n",
        "clf = svm.SVC(kernel='linear',C = 0.1)\n",
        "\n",
        "clf.fit(xtrain, ytrain)\n",
        "preds = clf.predict(xtest)\n",
        "preds = preds.astype(int)\n",
        "print('\\nTest:')\n",
        "print(accuracy_score(ytest.astype(int), preds),c)\n",
        "\n",
        "prev = clf.predict(xtrain)\n",
        "prev = prev.astype(int)\n",
        "print('Train:')\n",
        "print(accuracy_score(ytrain.astype(int), prev), c)\n"
      ],
      "metadata": {
        "id": "6lykO0luZjtN",
        "colab": {
          "base_uri": "https://localhost:8080/"
        },
        "outputId": "dc8efef8-0b28-4de8-bac6-b7717257e303"
      },
      "execution_count": null,
      "outputs": [
        {
          "output_type": "stream",
          "name": "stdout",
          "text": [
            "\n",
            "Test:\n",
            "0.2 10000\n",
            "Train:\n",
            "0.36795994993742176 10000\n"
          ]
        }
      ]
    },
    {
      "cell_type": "code",
      "source": [
        "from sklearn.dummy import DummyClassifier\n",
        "\n",
        "DMFmdl = DummyClassifier(strategy = 'most_frequent', random_state = 0, constant ='M')\n",
        "DMFmdl.fit(xtrain, ytrain)\n",
        "\n",
        "preds = DMFmdl.predict(xtest)\n",
        "mean_squared_error(ytest,preds)\n",
        "\n",
        "mse = mean_squared_error(ytest,preds)\n",
        "print(accuracy_score(ytest, preds))\n",
        "print(mse)\n",
        "\n",
        "preds = DMFmdl.predict(xtrain)\n",
        "mse = mean_squared_error(ytrain,preds)\n",
        "print(accuracy_score(ytrain, preds))\n"
      ],
      "metadata": {
        "id": "_0tIo43kMR2J",
        "colab": {
          "base_uri": "https://localhost:8080/"
        },
        "outputId": "86ad19ee-89cd-4032-994c-05dab6344559"
      },
      "execution_count": null,
      "outputs": [
        {
          "output_type": "stream",
          "name": "stdout",
          "text": [
            "0.035\n",
            "60.685\n",
            "0.06633291614518148\n"
          ]
        }
      ]
    }
  ]
}